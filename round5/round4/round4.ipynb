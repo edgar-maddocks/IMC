{
 "cells": [
  {
   "cell_type": "code",
   "execution_count": 1,
   "metadata": {},
   "outputs": [],
   "source": [
    "import pandas as pd"
   ]
  },
  {
   "cell_type": "code",
   "execution_count": 3,
   "metadata": {},
   "outputs": [
    {
     "data": {
      "text/html": [
       "<div>\n",
       "<style scoped>\n",
       "    .dataframe tbody tr th:only-of-type {\n",
       "        vertical-align: middle;\n",
       "    }\n",
       "\n",
       "    .dataframe tbody tr th {\n",
       "        vertical-align: top;\n",
       "    }\n",
       "\n",
       "    .dataframe thead th {\n",
       "        text-align: right;\n",
       "    }\n",
       "</style>\n",
       "<table border=\"1\" class=\"dataframe\">\n",
       "  <thead>\n",
       "    <tr style=\"text-align: right;\">\n",
       "      <th></th>\n",
       "      <th>timestamp</th>\n",
       "      <th>buyer</th>\n",
       "      <th>seller</th>\n",
       "      <th>symbol</th>\n",
       "      <th>currency</th>\n",
       "      <th>price</th>\n",
       "      <th>quantity</th>\n",
       "    </tr>\n",
       "  </thead>\n",
       "  <tbody>\n",
       "    <tr>\n",
       "      <th>0</th>\n",
       "      <td>800</td>\n",
       "      <td>Valentina</td>\n",
       "      <td>Valentina</td>\n",
       "      <td>COCONUT_COUPON</td>\n",
       "      <td>SEASHELLS</td>\n",
       "      <td>636.0</td>\n",
       "      <td>5</td>\n",
       "    </tr>\n",
       "    <tr>\n",
       "      <th>1</th>\n",
       "      <td>900</td>\n",
       "      <td>Valentina</td>\n",
       "      <td>Vinnie</td>\n",
       "      <td>COCONUT_COUPON</td>\n",
       "      <td>SEASHELLS</td>\n",
       "      <td>634.0</td>\n",
       "      <td>17</td>\n",
       "    </tr>\n",
       "    <tr>\n",
       "      <th>2</th>\n",
       "      <td>1100</td>\n",
       "      <td>Valentina</td>\n",
       "      <td>Ruby</td>\n",
       "      <td>COCONUT_COUPON</td>\n",
       "      <td>SEASHELLS</td>\n",
       "      <td>635.0</td>\n",
       "      <td>17</td>\n",
       "    </tr>\n",
       "    <tr>\n",
       "      <th>3</th>\n",
       "      <td>1900</td>\n",
       "      <td>Valentina</td>\n",
       "      <td>Vinnie</td>\n",
       "      <td>COCONUT_COUPON</td>\n",
       "      <td>SEASHELLS</td>\n",
       "      <td>635.0</td>\n",
       "      <td>16</td>\n",
       "    </tr>\n",
       "    <tr>\n",
       "      <th>4</th>\n",
       "      <td>2000</td>\n",
       "      <td>Valentina</td>\n",
       "      <td>Vinnie</td>\n",
       "      <td>COCONUT_COUPON</td>\n",
       "      <td>SEASHELLS</td>\n",
       "      <td>637.0</td>\n",
       "      <td>14</td>\n",
       "    </tr>\n",
       "    <tr>\n",
       "      <th>...</th>\n",
       "      <td>...</td>\n",
       "      <td>...</td>\n",
       "      <td>...</td>\n",
       "      <td>...</td>\n",
       "      <td>...</td>\n",
       "      <td>...</td>\n",
       "      <td>...</td>\n",
       "    </tr>\n",
       "    <tr>\n",
       "      <th>1691</th>\n",
       "      <td>996200</td>\n",
       "      <td>Valentina</td>\n",
       "      <td>Vinnie</td>\n",
       "      <td>COCONUT_COUPON</td>\n",
       "      <td>SEASHELLS</td>\n",
       "      <td>585.0</td>\n",
       "      <td>14</td>\n",
       "    </tr>\n",
       "    <tr>\n",
       "      <th>1692</th>\n",
       "      <td>997100</td>\n",
       "      <td>Vinnie</td>\n",
       "      <td>Vinnie</td>\n",
       "      <td>COCONUT</td>\n",
       "      <td>SEASHELLS</td>\n",
       "      <td>9885.0</td>\n",
       "      <td>9</td>\n",
       "    </tr>\n",
       "    <tr>\n",
       "      <th>1693</th>\n",
       "      <td>997200</td>\n",
       "      <td>Vinnie</td>\n",
       "      <td>Vinnie</td>\n",
       "      <td>COCONUT</td>\n",
       "      <td>SEASHELLS</td>\n",
       "      <td>9883.0</td>\n",
       "      <td>8</td>\n",
       "    </tr>\n",
       "    <tr>\n",
       "      <th>1694</th>\n",
       "      <td>998600</td>\n",
       "      <td>Vinnie</td>\n",
       "      <td>Raj</td>\n",
       "      <td>COCONUT</td>\n",
       "      <td>SEASHELLS</td>\n",
       "      <td>9887.0</td>\n",
       "      <td>5</td>\n",
       "    </tr>\n",
       "    <tr>\n",
       "      <th>1695</th>\n",
       "      <td>999800</td>\n",
       "      <td>Valentina</td>\n",
       "      <td>Rhianna</td>\n",
       "      <td>COCONUT_COUPON</td>\n",
       "      <td>SEASHELLS</td>\n",
       "      <td>575.0</td>\n",
       "      <td>14</td>\n",
       "    </tr>\n",
       "  </tbody>\n",
       "</table>\n",
       "<p>5129 rows × 7 columns</p>\n",
       "</div>"
      ],
      "text/plain": [
       "      timestamp      buyer     seller          symbol   currency   price  \\\n",
       "0           800  Valentina  Valentina  COCONUT_COUPON  SEASHELLS   636.0   \n",
       "1           900  Valentina     Vinnie  COCONUT_COUPON  SEASHELLS   634.0   \n",
       "2          1100  Valentina       Ruby  COCONUT_COUPON  SEASHELLS   635.0   \n",
       "3          1900  Valentina     Vinnie  COCONUT_COUPON  SEASHELLS   635.0   \n",
       "4          2000  Valentina     Vinnie  COCONUT_COUPON  SEASHELLS   637.0   \n",
       "...         ...        ...        ...             ...        ...     ...   \n",
       "1691     996200  Valentina     Vinnie  COCONUT_COUPON  SEASHELLS   585.0   \n",
       "1692     997100     Vinnie     Vinnie         COCONUT  SEASHELLS  9885.0   \n",
       "1693     997200     Vinnie     Vinnie         COCONUT  SEASHELLS  9883.0   \n",
       "1694     998600     Vinnie        Raj         COCONUT  SEASHELLS  9887.0   \n",
       "1695     999800  Valentina    Rhianna  COCONUT_COUPON  SEASHELLS   575.0   \n",
       "\n",
       "      quantity  \n",
       "0            5  \n",
       "1           17  \n",
       "2           17  \n",
       "3           16  \n",
       "4           14  \n",
       "...        ...  \n",
       "1691        14  \n",
       "1692         9  \n",
       "1693         8  \n",
       "1694         5  \n",
       "1695        14  \n",
       "\n",
       "[5129 rows x 7 columns]"
      ]
     },
     "execution_count": 3,
     "metadata": {},
     "output_type": "execute_result"
    }
   ],
   "source": [
    "day1 = pd.read_csv(\"trades_round_4_day_1_wn.csv\", sep = ';')\n",
    "day2 = pd.read_csv(\"trades_round_4_day_2_wn.csv\", sep = ';')\n",
    "day3 = pd.read_csv(\"trades_round_4_day_3_wn.csv\", sep = ';')\n",
    "\n",
    "all_data = pd.concat([day1, day2, day3])\n",
    "all_data"
   ]
  },
  {
   "cell_type": "code",
   "execution_count": 6,
   "metadata": {},
   "outputs": [],
   "source": [
    "coconut_trades = all_data[all_data[\"symbol\"] == \"COCONUT\"]\n",
    "coup_trades = all_data[all_data[\"symbol\"] == \"COCONUT_COUPON\"]"
   ]
  },
  {
   "cell_type": "code",
   "execution_count": 9,
   "metadata": {},
   "outputs": [
    {
     "data": {
      "text/plain": [
       "buyer\n",
       "Valentina    2531\n",
       "Ruby          380\n",
       "Vladimir      214\n",
       "Vinnie         25\n",
       "Rhianna        10\n",
       "Name: count, dtype: int64"
      ]
     },
     "execution_count": 9,
     "metadata": {},
     "output_type": "execute_result"
    }
   ],
   "source": [
    "coup_trades.buyer.value_counts()"
   ]
  },
  {
   "cell_type": "code",
   "execution_count": 10,
   "metadata": {},
   "outputs": [
    {
     "data": {
      "text/plain": [
       "seller\n",
       "Vinnie       1623\n",
       "Valentina     671\n",
       "Ruby          439\n",
       "Rhianna       388\n",
       "Vladimir       39\n",
       "Name: count, dtype: int64"
      ]
     },
     "execution_count": 10,
     "metadata": {},
     "output_type": "execute_result"
    }
   ],
   "source": [
    "coup_trades.seller.value_counts()"
   ]
  },
  {
   "cell_type": "code",
   "execution_count": null,
   "metadata": {},
   "outputs": [],
   "source": []
  }
 ],
 "metadata": {
  "kernelspec": {
   "display_name": "Python 3",
   "language": "python",
   "name": "python3"
  },
  "language_info": {
   "codemirror_mode": {
    "name": "ipython",
    "version": 3
   },
   "file_extension": ".py",
   "mimetype": "text/x-python",
   "name": "python",
   "nbconvert_exporter": "python",
   "pygments_lexer": "ipython3",
   "version": "3.11.7"
  }
 },
 "nbformat": 4,
 "nbformat_minor": 2
}
